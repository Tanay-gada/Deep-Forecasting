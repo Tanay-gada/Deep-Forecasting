{
 "cells": [
  {
   "cell_type": "code",
   "execution_count": 23,
   "id": "3f879019",
   "metadata": {},
   "outputs": [],
   "source": [
    "import pandas as pd \n",
    "import numpy as np\n",
    "import talib as ta\n",
    "import yfinance as yf\n",
    "import seaborn as sns\n",
    "import matplotlib.pyplot as plt\n",
    "from sklearn.preprocessing import MinMaxScaler\n",
    "from sklearn.metrics import mean_squared_error,mean_absolute_error\n",
    "\n",
    "import keras\n",
    "from keras.models import Sequential\n",
    "from keras.layers import Dense,LSTM,Dropout\n",
    "\n",
    "import warnings\n",
    "warnings.filterwarnings(\"ignore\")"
   ]
  },
  {
   "cell_type": "code",
   "execution_count": 2,
   "id": "c45c8dd4",
   "metadata": {},
   "outputs": [],
   "source": [
    "stock_code=\"RELIANCE.NS\""
   ]
  },
  {
   "cell_type": "code",
   "execution_count": 3,
   "id": "c0860e8f",
   "metadata": {},
   "outputs": [
    {
     "data": {
      "text/html": [
       "<div>\n",
       "<style scoped>\n",
       "    .dataframe tbody tr th:only-of-type {\n",
       "        vertical-align: middle;\n",
       "    }\n",
       "\n",
       "    .dataframe tbody tr th {\n",
       "        vertical-align: top;\n",
       "    }\n",
       "\n",
       "    .dataframe thead th {\n",
       "        text-align: right;\n",
       "    }\n",
       "</style>\n",
       "<table border=\"1\" class=\"dataframe\">\n",
       "  <thead>\n",
       "    <tr style=\"text-align: right;\">\n",
       "      <th></th>\n",
       "      <th>Open</th>\n",
       "      <th>High</th>\n",
       "      <th>Low</th>\n",
       "      <th>Close</th>\n",
       "      <th>Adj Close</th>\n",
       "      <th>Volume</th>\n",
       "    </tr>\n",
       "    <tr>\n",
       "      <th>Date</th>\n",
       "      <th></th>\n",
       "      <th></th>\n",
       "      <th></th>\n",
       "      <th></th>\n",
       "      <th></th>\n",
       "      <th></th>\n",
       "    </tr>\n",
       "  </thead>\n",
       "  <tbody>\n",
       "    <tr>\n",
       "      <th>2000-01-03</th>\n",
       "      <td>36.747459</td>\n",
       "      <td>38.944569</td>\n",
       "      <td>36.747459</td>\n",
       "      <td>38.944569</td>\n",
       "      <td>29.773567</td>\n",
       "      <td>28802010</td>\n",
       "    </tr>\n",
       "    <tr>\n",
       "      <th>2000-01-04</th>\n",
       "      <td>39.981236</td>\n",
       "      <td>42.062302</td>\n",
       "      <td>38.882679</td>\n",
       "      <td>42.062302</td>\n",
       "      <td>32.157101</td>\n",
       "      <td>61320457</td>\n",
       "    </tr>\n",
       "    <tr>\n",
       "      <th>2000-01-05</th>\n",
       "      <td>39.710464</td>\n",
       "      <td>44.545658</td>\n",
       "      <td>39.710464</td>\n",
       "      <td>43.710136</td>\n",
       "      <td>33.416893</td>\n",
       "      <td>173426953</td>\n",
       "    </tr>\n",
       "    <tr>\n",
       "      <th>2000-01-06</th>\n",
       "      <td>44.715855</td>\n",
       "      <td>46.526150</td>\n",
       "      <td>44.715855</td>\n",
       "      <td>45.543640</td>\n",
       "      <td>34.818626</td>\n",
       "      <td>101355113</td>\n",
       "    </tr>\n",
       "    <tr>\n",
       "      <th>2000-01-07</th>\n",
       "      <td>45.644211</td>\n",
       "      <td>49.187443</td>\n",
       "      <td>45.334759</td>\n",
       "      <td>48.669109</td>\n",
       "      <td>37.208088</td>\n",
       "      <td>128426756</td>\n",
       "    </tr>\n",
       "  </tbody>\n",
       "</table>\n",
       "</div>"
      ],
      "text/plain": [
       "                 Open       High        Low      Close  Adj Close     Volume\n",
       "Date                                                                        \n",
       "2000-01-03  36.747459  38.944569  36.747459  38.944569  29.773567   28802010\n",
       "2000-01-04  39.981236  42.062302  38.882679  42.062302  32.157101   61320457\n",
       "2000-01-05  39.710464  44.545658  39.710464  43.710136  33.416893  173426953\n",
       "2000-01-06  44.715855  46.526150  44.715855  45.543640  34.818626  101355113\n",
       "2000-01-07  45.644211  49.187443  45.334759  48.669109  37.208088  128426756"
      ]
     },
     "execution_count": 3,
     "metadata": {},
     "output_type": "execute_result"
    }
   ],
   "source": [
    "df_train=yf.download(stock_code,start='2000-01-01',end='2020-12-31',progress=False)\n",
    "df_train.head()"
   ]
  },
  {
   "cell_type": "code",
   "execution_count": 4,
   "id": "30ee22b8",
   "metadata": {},
   "outputs": [
    {
     "data": {
      "text/html": [
       "<div>\n",
       "<style scoped>\n",
       "    .dataframe tbody tr th:only-of-type {\n",
       "        vertical-align: middle;\n",
       "    }\n",
       "\n",
       "    .dataframe tbody tr th {\n",
       "        vertical-align: top;\n",
       "    }\n",
       "\n",
       "    .dataframe thead th {\n",
       "        text-align: right;\n",
       "    }\n",
       "</style>\n",
       "<table border=\"1\" class=\"dataframe\">\n",
       "  <thead>\n",
       "    <tr style=\"text-align: right;\">\n",
       "      <th></th>\n",
       "      <th>Open</th>\n",
       "      <th>High</th>\n",
       "      <th>Low</th>\n",
       "      <th>Close</th>\n",
       "      <th>Adj Close</th>\n",
       "      <th>Volume</th>\n",
       "    </tr>\n",
       "    <tr>\n",
       "      <th>Date</th>\n",
       "      <th></th>\n",
       "      <th></th>\n",
       "      <th></th>\n",
       "      <th></th>\n",
       "      <th></th>\n",
       "      <th></th>\n",
       "    </tr>\n",
       "  </thead>\n",
       "  <tbody>\n",
       "    <tr>\n",
       "      <th>2021-01-01</th>\n",
       "      <td>1988.000000</td>\n",
       "      <td>1997.000000</td>\n",
       "      <td>1982.000000</td>\n",
       "      <td>1987.500000</td>\n",
       "      <td>1981.126831</td>\n",
       "      <td>4622002</td>\n",
       "    </tr>\n",
       "    <tr>\n",
       "      <th>2021-01-04</th>\n",
       "      <td>1995.099976</td>\n",
       "      <td>1998.900024</td>\n",
       "      <td>1968.000000</td>\n",
       "      <td>1990.849976</td>\n",
       "      <td>1984.466064</td>\n",
       "      <td>11312992</td>\n",
       "    </tr>\n",
       "    <tr>\n",
       "      <th>2021-01-05</th>\n",
       "      <td>1969.000000</td>\n",
       "      <td>1983.599976</td>\n",
       "      <td>1956.000000</td>\n",
       "      <td>1966.099976</td>\n",
       "      <td>1959.795410</td>\n",
       "      <td>11132803</td>\n",
       "    </tr>\n",
       "    <tr>\n",
       "      <th>2021-01-06</th>\n",
       "      <td>1965.900024</td>\n",
       "      <td>1966.000000</td>\n",
       "      <td>1905.150024</td>\n",
       "      <td>1914.250000</td>\n",
       "      <td>1908.111694</td>\n",
       "      <td>21414270</td>\n",
       "    </tr>\n",
       "    <tr>\n",
       "      <th>2021-01-07</th>\n",
       "      <td>1920.500000</td>\n",
       "      <td>1945.000000</td>\n",
       "      <td>1905.150024</td>\n",
       "      <td>1911.150024</td>\n",
       "      <td>1905.021729</td>\n",
       "      <td>14918406</td>\n",
       "    </tr>\n",
       "  </tbody>\n",
       "</table>\n",
       "</div>"
      ],
      "text/plain": [
       "                   Open         High          Low        Close    Adj Close  \\\n",
       "Date                                                                          \n",
       "2021-01-01  1988.000000  1997.000000  1982.000000  1987.500000  1981.126831   \n",
       "2021-01-04  1995.099976  1998.900024  1968.000000  1990.849976  1984.466064   \n",
       "2021-01-05  1969.000000  1983.599976  1956.000000  1966.099976  1959.795410   \n",
       "2021-01-06  1965.900024  1966.000000  1905.150024  1914.250000  1908.111694   \n",
       "2021-01-07  1920.500000  1945.000000  1905.150024  1911.150024  1905.021729   \n",
       "\n",
       "              Volume  \n",
       "Date                  \n",
       "2021-01-01   4622002  \n",
       "2021-01-04  11312992  \n",
       "2021-01-05  11132803  \n",
       "2021-01-06  21414270  \n",
       "2021-01-07  14918406  "
      ]
     },
     "execution_count": 4,
     "metadata": {},
     "output_type": "execute_result"
    }
   ],
   "source": [
    "df_val=yf.download(stock_code,start='2021-01-01',end='2021-12-31',progress=False)\n",
    "df_val.head()"
   ]
  },
  {
   "cell_type": "code",
   "execution_count": 5,
   "id": "aa592e4d",
   "metadata": {},
   "outputs": [],
   "source": [
    "scaler  = MinMaxScaler(feature_range=(0, 1))\n",
    "train_scaled = scaler.fit_transform(df_train)\n",
    "val_scaled = scaler.fit_transform(df_val)"
   ]
  },
  {
   "cell_type": "code",
   "execution_count": 6,
   "id": "043a7aba",
   "metadata": {},
   "outputs": [],
   "source": [
    "x_train=train_scaled[:, 0]\n",
    "y_train=train_scaled[:, 3]\n",
    "x_val=val_scaled[:, 0]\n",
    "y_val=val_scaled[:, 3]"
   ]
  },
  {
   "cell_type": "code",
   "execution_count": 47,
   "id": "d9d6479d",
   "metadata": {},
   "outputs": [],
   "source": [
    "model = Sequential()\n",
    "# Adding the input layer and the first hidden layer and Drop out Regularization\n",
    "model.add(Dense(units = 500, kernel_initializer = 'uniform', activation = 'relu', input_dim = 1))\n",
    "model.add(Dropout(.2))\n",
    "    \n",
    "# Adding the first hidden layer and Drop out Regularization\n",
    "model.add(Dense(units = 500, kernel_initializer = 'uniform', activation = 'relu'))\n",
    "model.add(Dropout(.2))\n",
    "    \n",
    "# Adding the second hidden layer and Drop out Regularization\n",
    "model.add(Dense(units = 500, kernel_initializer = 'uniform', activation = 'relu'))\n",
    "model.add(Dropout(.2))\n",
    "    \n",
    "# Adding the third hidden layer and Drop out Regularization\n",
    "model.add(Dense(units = 500, kernel_initializer = 'uniform', activation = 'relu'))\n",
    "model.add(Dropout(.2))\n",
    "    \n",
    "# Adding the output layer\n",
    "model.add(Dense(units = 1, kernel_initializer = 'uniform', activation = 'sigmoid'))"
   ]
  },
  {
   "cell_type": "code",
   "execution_count": 48,
   "id": "cb2e05de",
   "metadata": {},
   "outputs": [
    {
     "name": "stdout",
     "output_type": "stream",
     "text": [
      "Model: \"sequential_3\"\n",
      "_________________________________________________________________\n",
      " Layer (type)                Output Shape              Param #   \n",
      "=================================================================\n",
      " dense_15 (Dense)            (None, 500)               1000      \n",
      "                                                                 \n",
      " dropout_12 (Dropout)        (None, 500)               0         \n",
      "                                                                 \n",
      " dense_16 (Dense)            (None, 500)               250500    \n",
      "                                                                 \n",
      " dropout_13 (Dropout)        (None, 500)               0         \n",
      "                                                                 \n",
      " dense_17 (Dense)            (None, 500)               250500    \n",
      "                                                                 \n",
      " dropout_14 (Dropout)        (None, 500)               0         \n",
      "                                                                 \n",
      " dense_18 (Dense)            (None, 500)               250500    \n",
      "                                                                 \n",
      " dropout_15 (Dropout)        (None, 500)               0         \n",
      "                                                                 \n",
      " dense_19 (Dense)            (None, 1)                 501       \n",
      "                                                                 \n",
      "=================================================================\n",
      "Total params: 753,001\n",
      "Trainable params: 753,001\n",
      "Non-trainable params: 0\n",
      "_________________________________________________________________\n"
     ]
    }
   ],
   "source": [
    "model.summary()"
   ]
  },
  {
   "cell_type": "code",
   "execution_count": 49,
   "id": "7e9fbaa4",
   "metadata": {},
   "outputs": [],
   "source": [
    "model.compile(optimizer = 'adam', loss = 'mean_squared_error')"
   ]
  },
  {
   "cell_type": "code",
   "execution_count": 50,
   "id": "9b095186",
   "metadata": {},
   "outputs": [
    {
     "name": "stdout",
     "output_type": "stream",
     "text": [
      "Epoch 1/50\n",
      "164/164 [==============================] - 2s 9ms/step - loss: 0.0130 - val_loss: 0.0020\n",
      "Epoch 2/50\n",
      "164/164 [==============================] - 1s 8ms/step - loss: 5.8319e-04 - val_loss: 0.0025\n",
      "Epoch 3/50\n",
      "164/164 [==============================] - 1s 8ms/step - loss: 5.1145e-04 - val_loss: 0.0030\n",
      "Epoch 4/50\n",
      "164/164 [==============================] - 1s 8ms/step - loss: 3.4238e-04 - val_loss: 0.0017\n",
      "Epoch 5/50\n",
      "164/164 [==============================] - 1s 8ms/step - loss: 3.2893e-04 - val_loss: 0.0016\n",
      "Epoch 6/50\n",
      "164/164 [==============================] - 1s 8ms/step - loss: 3.0375e-04 - val_loss: 0.0019\n",
      "Epoch 7/50\n",
      "164/164 [==============================] - 1s 8ms/step - loss: 2.7842e-04 - val_loss: 0.0016\n",
      "Epoch 8/50\n",
      "164/164 [==============================] - 1s 9ms/step - loss: 2.7145e-04 - val_loss: 0.0018\n",
      "Epoch 9/50\n",
      "164/164 [==============================] - 2s 10ms/step - loss: 2.7902e-04 - val_loss: 0.0018\n",
      "Epoch 10/50\n",
      "164/164 [==============================] - 1s 9ms/step - loss: 2.6045e-04 - val_loss: 0.0028\n",
      "Epoch 11/50\n",
      "164/164 [==============================] - 1s 8ms/step - loss: 2.7133e-04 - val_loss: 0.0023\n",
      "Epoch 12/50\n",
      "164/164 [==============================] - 1s 8ms/step - loss: 2.4698e-04 - val_loss: 0.0015\n",
      "Epoch 13/50\n",
      "164/164 [==============================] - 1s 9ms/step - loss: 2.4079e-04 - val_loss: 0.0017\n",
      "Epoch 14/50\n",
      "164/164 [==============================] - 1s 8ms/step - loss: 2.9789e-04 - val_loss: 0.0017\n",
      "Epoch 15/50\n",
      "164/164 [==============================] - 1s 8ms/step - loss: 2.3519e-04 - val_loss: 0.0018\n",
      "Epoch 16/50\n",
      "164/164 [==============================] - 1s 8ms/step - loss: 2.2740e-04 - val_loss: 0.0020\n",
      "Epoch 17/50\n",
      "164/164 [==============================] - 1s 8ms/step - loss: 2.2970e-04 - val_loss: 0.0016\n",
      "Epoch 18/50\n",
      "164/164 [==============================] - 1s 8ms/step - loss: 2.5610e-04 - val_loss: 0.0018\n",
      "Epoch 19/50\n",
      "164/164 [==============================] - 1s 8ms/step - loss: 2.2780e-04 - val_loss: 0.0018\n",
      "Epoch 20/50\n",
      "164/164 [==============================] - 1s 9ms/step - loss: 2.2754e-04 - val_loss: 0.0017\n",
      "Epoch 21/50\n",
      "164/164 [==============================] - 1s 9ms/step - loss: 2.3419e-04 - val_loss: 0.0020\n",
      "Epoch 22/50\n",
      "164/164 [==============================] - 1s 9ms/step - loss: 2.1061e-04 - val_loss: 0.0016\n",
      "Epoch 23/50\n",
      "164/164 [==============================] - 1s 8ms/step - loss: 2.2390e-04 - val_loss: 0.0017\n",
      "Epoch 24/50\n",
      "164/164 [==============================] - 1s 9ms/step - loss: 2.1846e-04 - val_loss: 0.0016\n",
      "Epoch 25/50\n",
      "164/164 [==============================] - 1s 8ms/step - loss: 2.1908e-04 - val_loss: 0.0017\n",
      "Epoch 26/50\n",
      "164/164 [==============================] - 1s 8ms/step - loss: 2.1712e-04 - val_loss: 0.0016\n",
      "Epoch 27/50\n",
      "164/164 [==============================] - 1s 8ms/step - loss: 2.1354e-04 - val_loss: 0.0016\n",
      "Epoch 28/50\n",
      "164/164 [==============================] - 1s 8ms/step - loss: 1.9079e-04 - val_loss: 0.0018\n",
      "Epoch 29/50\n",
      "164/164 [==============================] - 1s 8ms/step - loss: 1.9445e-04 - val_loss: 0.0019\n",
      "Epoch 30/50\n",
      "164/164 [==============================] - 1s 8ms/step - loss: 1.8274e-04 - val_loss: 0.0017\n",
      "Epoch 31/50\n",
      "164/164 [==============================] - 1s 8ms/step - loss: 2.1205e-04 - val_loss: 0.0016\n",
      "Epoch 32/50\n",
      "164/164 [==============================] - 1s 9ms/step - loss: 2.1573e-04 - val_loss: 0.0018\n",
      "Epoch 33/50\n",
      "164/164 [==============================] - 1s 9ms/step - loss: 1.9920e-04 - val_loss: 0.0019\n",
      "Epoch 34/50\n",
      "164/164 [==============================] - 1s 8ms/step - loss: 1.8380e-04 - val_loss: 0.0017\n",
      "Epoch 35/50\n",
      "164/164 [==============================] - 1s 9ms/step - loss: 1.8374e-04 - val_loss: 0.0018\n",
      "Epoch 36/50\n",
      "164/164 [==============================] - 1s 8ms/step - loss: 2.0125e-04 - val_loss: 0.0017\n",
      "Epoch 37/50\n",
      "164/164 [==============================] - 1s 8ms/step - loss: 1.7645e-04 - val_loss: 0.0019\n",
      "Epoch 38/50\n",
      "164/164 [==============================] - 1s 8ms/step - loss: 1.8482e-04 - val_loss: 0.0015\n",
      "Epoch 39/50\n",
      "164/164 [==============================] - 1s 8ms/step - loss: 2.0840e-04 - val_loss: 0.0016\n",
      "Epoch 40/50\n",
      "164/164 [==============================] - 1s 8ms/step - loss: 1.8601e-04 - val_loss: 0.0019\n",
      "Epoch 41/50\n",
      "164/164 [==============================] - 1s 8ms/step - loss: 2.1467e-04 - val_loss: 0.0018\n",
      "Epoch 42/50\n",
      "164/164 [==============================] - 1s 8ms/step - loss: 1.7826e-04 - val_loss: 0.0017\n",
      "Epoch 43/50\n",
      "164/164 [==============================] - 1s 9ms/step - loss: 1.7594e-04 - val_loss: 0.0019\n",
      "Epoch 44/50\n",
      "164/164 [==============================] - 1s 9ms/step - loss: 1.6781e-04 - val_loss: 0.0017\n",
      "Epoch 45/50\n",
      "164/164 [==============================] - 1s 9ms/step - loss: 1.9988e-04 - val_loss: 0.0017\n",
      "Epoch 46/50\n",
      "164/164 [==============================] - 1s 8ms/step - loss: 1.7212e-04 - val_loss: 0.0019\n",
      "Epoch 47/50\n",
      "164/164 [==============================] - 1s 9ms/step - loss: 1.9343e-04 - val_loss: 0.0018\n",
      "Epoch 48/50\n",
      "164/164 [==============================] - 1s 8ms/step - loss: 2.0694e-04 - val_loss: 0.0022\n",
      "Epoch 49/50\n",
      "164/164 [==============================] - 1s 8ms/step - loss: 1.9676e-04 - val_loss: 0.0017\n",
      "Epoch 50/50\n",
      "164/164 [==============================] - 1s 8ms/step - loss: 2.0148e-04 - val_loss: 0.0018\n"
     ]
    }
   ],
   "source": [
    "r = model.fit(x=x_train, y=y_train , validation_data=(x_val,y_val), batch_size=32, epochs=50)"
   ]
  },
  {
   "cell_type": "code",
   "execution_count": 51,
   "id": "5005e207",
   "metadata": {},
   "outputs": [
    {
     "data": {
      "image/png": "[encoded data removed]",
      "text/plain": [
       "<Figure size 432x288 with 1 Axes>"
      ]
     },
     "metadata": {
      "needs_background": "light"
     },
     "output_type": "display_data"
    }
   ],
   "source": [
    "# plot the loss\n",
    "plt.plot(r.history['loss'], label='train loss')\n",
    "plt.plot(r.history['val_loss'], label='val loss')\n",
    "plt.legend()\n",
    "plt.show()"
   ]
  },
  {
   "cell_type": "code",
   "execution_count": 36,
   "id": "652a8a45",
   "metadata": {},
   "outputs": [
    {
     "data": {
      "text/html": [
       "<div>\n",
       "<style scoped>\n",
       "    .dataframe tbody tr th:only-of-type {\n",
       "        vertical-align: middle;\n",
       "    }\n",
       "\n",
       "    .dataframe tbody tr th {\n",
       "        vertical-align: top;\n",
       "    }\n",
       "\n",
       "    .dataframe thead th {\n",
       "        text-align: right;\n",
       "    }\n",
       "</style>\n",
       "<table border=\"1\" class=\"dataframe\">\n",
       "  <thead>\n",
       "    <tr style=\"text-align: right;\">\n",
       "      <th></th>\n",
       "      <th>Open</th>\n",
       "      <th>High</th>\n",
       "      <th>Low</th>\n",
       "      <th>Close</th>\n",
       "      <th>Adj Close</th>\n",
       "      <th>Volume</th>\n",
       "    </tr>\n",
       "    <tr>\n",
       "      <th>Date</th>\n",
       "      <th></th>\n",
       "      <th></th>\n",
       "      <th></th>\n",
       "      <th></th>\n",
       "      <th></th>\n",
       "      <th></th>\n",
       "    </tr>\n",
       "  </thead>\n",
       "  <tbody>\n",
       "    <tr>\n",
       "      <th>2022-01-03</th>\n",
       "      <td>2365.000000</td>\n",
       "      <td>2407.949951</td>\n",
       "      <td>2363.550049</td>\n",
       "      <td>2403.850098</td>\n",
       "      <td>2403.850098</td>\n",
       "      <td>2502073</td>\n",
       "    </tr>\n",
       "    <tr>\n",
       "      <th>2022-01-04</th>\n",
       "      <td>2415.899902</td>\n",
       "      <td>2461.000000</td>\n",
       "      <td>2404.000000</td>\n",
       "      <td>2458.100098</td>\n",
       "      <td>2458.100098</td>\n",
       "      <td>5006225</td>\n",
       "    </tr>\n",
       "    <tr>\n",
       "      <th>2022-01-05</th>\n",
       "      <td>2462.000000</td>\n",
       "      <td>2477.000000</td>\n",
       "      <td>2432.949951</td>\n",
       "      <td>2469.600098</td>\n",
       "      <td>2469.600098</td>\n",
       "      <td>5373618</td>\n",
       "    </tr>\n",
       "    <tr>\n",
       "      <th>2022-01-06</th>\n",
       "      <td>2451.199951</td>\n",
       "      <td>2454.000000</td>\n",
       "      <td>2409.000000</td>\n",
       "      <td>2416.500000</td>\n",
       "      <td>2416.500000</td>\n",
       "      <td>6667483</td>\n",
       "    </tr>\n",
       "    <tr>\n",
       "      <th>2022-01-07</th>\n",
       "      <td>2430.949951</td>\n",
       "      <td>2458.050049</td>\n",
       "      <td>2411.550049</td>\n",
       "      <td>2436.000000</td>\n",
       "      <td>2436.000000</td>\n",
       "      <td>6051239</td>\n",
       "    </tr>\n",
       "  </tbody>\n",
       "</table>\n",
       "</div>"
      ],
      "text/plain": [
       "                   Open         High          Low        Close    Adj Close  \\\n",
       "Date                                                                          \n",
       "2022-01-03  2365.000000  2407.949951  2363.550049  2403.850098  2403.850098   \n",
       "2022-01-04  2415.899902  2461.000000  2404.000000  2458.100098  2458.100098   \n",
       "2022-01-05  2462.000000  2477.000000  2432.949951  2469.600098  2469.600098   \n",
       "2022-01-06  2451.199951  2454.000000  2409.000000  2416.500000  2416.500000   \n",
       "2022-01-07  2430.949951  2458.050049  2411.550049  2436.000000  2436.000000   \n",
       "\n",
       "             Volume  \n",
       "Date                 \n",
       "2022-01-03  2502073  \n",
       "2022-01-04  5006225  \n",
       "2022-01-05  5373618  \n",
       "2022-01-06  6667483  \n",
       "2022-01-07  6051239  "
      ]
     },
     "execution_count": 36,
     "metadata": {},
     "output_type": "execute_result"
    }
   ],
   "source": [
    "df_test=yf.download(stock_code,start='2022-01-01',end='2022-06-30',progress=False)\n",
    "df_test.head()"
   ]
  },
  {
   "cell_type": "code",
   "execution_count": 37,
   "id": "01c1b28a",
   "metadata": {},
   "outputs": [],
   "source": [
    "test_scaled = scaler.fit_transform(df_test)"
   ]
  },
  {
   "cell_type": "code",
   "execution_count": 38,
   "id": "61c0c400",
   "metadata": {},
   "outputs": [],
   "source": [
    "x_test=test_scaled[:,0]"
   ]
  },
  {
   "cell_type": "code",
   "execution_count": 52,
   "id": "f6d18f56",
   "metadata": {},
   "outputs": [],
   "source": [
    "predicted_stock_price = model.predict(x_test)"
   ]
  },
  {
   "cell_type": "code",
   "execution_count": 53,
   "id": "dec1a215",
   "metadata": {},
   "outputs": [
    {
     "data": {
      "text/plain": [
       "(122,)"
      ]
     },
     "execution_count": 53,
     "metadata": {},
     "output_type": "execute_result"
    }
   ],
   "source": [
    "predicted_stock_price=predicted_stock_price.reshape((x_test.shape[0],))\n",
    "predicted_stock_price.shape"
   ]
  },
  {
   "cell_type": "code",
   "execution_count": 54,
   "id": "c8af39a3",
   "metadata": {},
   "outputs": [],
   "source": [
    "test_scaled[:,3]=predicted_stock_price"
   ]
  },
  {
   "cell_type": "code",
   "execution_count": 55,
   "id": "2c603a93",
   "metadata": {},
   "outputs": [],
   "source": [
    "stock_price = scaler.inverse_transform(test_scaled)"
   ]
  },
  {
   "cell_type": "code",
   "execution_count": 56,
   "id": "8cf07cb0",
   "metadata": {},
   "outputs": [
    {
     "name": "stdout",
     "output_type": "stream",
     "text": [
      "1721.5827022271903\n"
     ]
    }
   ],
   "source": [
    "mse = mean_squared_error(df_test['Close'], stock_price[:,3])\n",
    "print(mse)"
   ]
  },
  {
   "cell_type": "code",
   "execution_count": 57,
   "id": "77d135a0",
   "metadata": {},
   "outputs": [
    {
     "name": "stdout",
     "output_type": "stream",
     "text": [
      "32.60127142832288\n"
     ]
    }
   ],
   "source": [
    "mae = mean_absolute_error(df_test['Close'], stock_price[:,3])\n",
    "print(mae)"
   ]
  },
  {
   "cell_type": "code",
   "execution_count": 45,
   "id": "4a551192",
   "metadata": {},
   "outputs": [],
   "source": [
    "df_test['Predicted_Value']=stock_price[:,3]"
   ]
  },
  {
   "cell_type": "code",
   "execution_count": 46,
   "id": "9dd5fc9c",
   "metadata": {},
   "outputs": [
    {
     "data": {
      "image/png": "[encoded data removed]",
      "text/plain": [
       "<Figure size 1440x504 with 1 Axes>"
      ]
     },
     "metadata": {
      "needs_background": "light"
     },
     "output_type": "display_data"
    }
   ],
   "source": [
    "fig, ax = plt.subplots(figsize=(20, 7))\n",
    "plt.plot(df_test['Predicted_Value'],label='Predicted',color='b')\n",
    "plt.plot(df_test['Close'],label='Close',color='r')\n",
    "plt.xlabel('Date')\n",
    "plt.ylabel('Price')\n",
    "plt.legend()\n",
    "plt.show()"
   ]
  },
  {
   "cell_type": "code",
   "execution_count": null,
   "id": "35a3d517",
   "metadata": {},
   "outputs": [],
   "source": []
  }
 ],
 "metadata": {
  "kernelspec": {
   "display_name": "Python 3 (ipykernel)",
   "language": "python",
   "name": "python3"
  },
  "language_info": {
   "codemirror_mode": {
    "name": "ipython",
    "version": 3
   },
   "file_extension": ".py",
   "mimetype": "text/x-python",
   "name": "python",
   "nbconvert_exporter": "python",
   "pygments_lexer": "ipython3",
   "version": "3.9.7"
  }
 },
 "nbformat": 4,
 "nbformat_minor": 5
}
