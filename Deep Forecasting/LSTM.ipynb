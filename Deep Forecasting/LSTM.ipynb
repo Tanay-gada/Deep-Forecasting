{
 "cells": [
  {
   "cell_type": "code",
   "execution_count": 27,
   "id": "9395bd3b",
   "metadata": {},
   "outputs": [],
   "source": [
    "import pandas as pd \n",
    "import numpy as np\n",
    "import talib as ta\n",
    "import yfinance as yf\n",
    "import seaborn as sns\n",
    "import matplotlib.pyplot as plt\n",
    "from sklearn.preprocessing import MinMaxScaler\n",
    "from sklearn.metrics import mean_squared_error,mean_absolute_error\n",
    "\n",
    "import keras\n",
    "from keras.models import Sequential\n",
    "from keras.layers import Dense,LSTM,Dropout\n",
    "\n",
    "import warnings\n",
    "warnings.filterwarnings(\"ignore\")"
   ]
  },
  {
   "cell_type": "code",
   "execution_count": 2,
   "id": "1e6e2e67",
   "metadata": {},
   "outputs": [],
   "source": [
    "stock_code=\"RELIANCE.NS\""
   ]
  },
  {
   "cell_type": "code",
   "execution_count": 3,
   "id": "a5218353",
   "metadata": {},
   "outputs": [
    {
     "data": {
      "text/html": [
       "<div>\n",
       "<style scoped>\n",
       "    .dataframe tbody tr th:only-of-type {\n",
       "        vertical-align: middle;\n",
       "    }\n",
       "\n",
       "    .dataframe tbody tr th {\n",
       "        vertical-align: top;\n",
       "    }\n",
       "\n",
       "    .dataframe thead th {\n",
       "        text-align: right;\n",
       "    }\n",
       "</style>\n",
       "<table border=\"1\" class=\"dataframe\">\n",
       "  <thead>\n",
       "    <tr style=\"text-align: right;\">\n",
       "      <th></th>\n",
       "      <th>Open</th>\n",
       "      <th>High</th>\n",
       "      <th>Low</th>\n",
       "      <th>Close</th>\n",
       "      <th>Adj Close</th>\n",
       "      <th>Volume</th>\n",
       "    </tr>\n",
       "    <tr>\n",
       "      <th>Date</th>\n",
       "      <th></th>\n",
       "      <th></th>\n",
       "      <th></th>\n",
       "      <th></th>\n",
       "      <th></th>\n",
       "      <th></th>\n",
       "    </tr>\n",
       "  </thead>\n",
       "  <tbody>\n",
       "    <tr>\n",
       "      <th>2000-01-03</th>\n",
       "      <td>36.747459</td>\n",
       "      <td>38.944569</td>\n",
       "      <td>36.747459</td>\n",
       "      <td>38.944569</td>\n",
       "      <td>29.773567</td>\n",
       "      <td>28802010</td>\n",
       "    </tr>\n",
       "    <tr>\n",
       "      <th>2000-01-04</th>\n",
       "      <td>39.981236</td>\n",
       "      <td>42.062302</td>\n",
       "      <td>38.882679</td>\n",
       "      <td>42.062302</td>\n",
       "      <td>32.157112</td>\n",
       "      <td>61320457</td>\n",
       "    </tr>\n",
       "    <tr>\n",
       "      <th>2000-01-05</th>\n",
       "      <td>39.710464</td>\n",
       "      <td>44.545658</td>\n",
       "      <td>39.710464</td>\n",
       "      <td>43.710136</td>\n",
       "      <td>33.416901</td>\n",
       "      <td>173426953</td>\n",
       "    </tr>\n",
       "    <tr>\n",
       "      <th>2000-01-06</th>\n",
       "      <td>44.715855</td>\n",
       "      <td>46.526150</td>\n",
       "      <td>44.715855</td>\n",
       "      <td>45.543640</td>\n",
       "      <td>34.818642</td>\n",
       "      <td>101355113</td>\n",
       "    </tr>\n",
       "    <tr>\n",
       "      <th>2000-01-07</th>\n",
       "      <td>45.644211</td>\n",
       "      <td>49.187443</td>\n",
       "      <td>45.334759</td>\n",
       "      <td>48.669109</td>\n",
       "      <td>37.208092</td>\n",
       "      <td>128426756</td>\n",
       "    </tr>\n",
       "  </tbody>\n",
       "</table>\n",
       "</div>"
      ],
      "text/plain": [
       "                 Open       High        Low      Close  Adj Close     Volume\n",
       "Date                                                                        \n",
       "2000-01-03  36.747459  38.944569  36.747459  38.944569  29.773567   28802010\n",
       "2000-01-04  39.981236  42.062302  38.882679  42.062302  32.157112   61320457\n",
       "2000-01-05  39.710464  44.545658  39.710464  43.710136  33.416901  173426953\n",
       "2000-01-06  44.715855  46.526150  44.715855  45.543640  34.818642  101355113\n",
       "2000-01-07  45.644211  49.187443  45.334759  48.669109  37.208092  128426756"
      ]
     },
     "execution_count": 3,
     "metadata": {},
     "output_type": "execute_result"
    }
   ],
   "source": [
    "df_train=yf.download(stock_code,start='2000-01-01',end='2020-12-31',progress=False)\n",
    "df_train.head()"
   ]
  },
  {
   "cell_type": "code",
   "execution_count": 4,
   "id": "7a895f3f",
   "metadata": {},
   "outputs": [
    {
     "data": {
      "text/html": [
       "<div>\n",
       "<style scoped>\n",
       "    .dataframe tbody tr th:only-of-type {\n",
       "        vertical-align: middle;\n",
       "    }\n",
       "\n",
       "    .dataframe tbody tr th {\n",
       "        vertical-align: top;\n",
       "    }\n",
       "\n",
       "    .dataframe thead th {\n",
       "        text-align: right;\n",
       "    }\n",
       "</style>\n",
       "<table border=\"1\" class=\"dataframe\">\n",
       "  <thead>\n",
       "    <tr style=\"text-align: right;\">\n",
       "      <th></th>\n",
       "      <th>Open</th>\n",
       "      <th>High</th>\n",
       "      <th>Low</th>\n",
       "      <th>Close</th>\n",
       "      <th>Adj Close</th>\n",
       "      <th>Volume</th>\n",
       "    </tr>\n",
       "    <tr>\n",
       "      <th>Date</th>\n",
       "      <th></th>\n",
       "      <th></th>\n",
       "      <th></th>\n",
       "      <th></th>\n",
       "      <th></th>\n",
       "      <th></th>\n",
       "    </tr>\n",
       "  </thead>\n",
       "  <tbody>\n",
       "    <tr>\n",
       "      <th>2021-01-01</th>\n",
       "      <td>1988.000000</td>\n",
       "      <td>1997.000000</td>\n",
       "      <td>1982.000000</td>\n",
       "      <td>1987.500000</td>\n",
       "      <td>1981.126831</td>\n",
       "      <td>4622002</td>\n",
       "    </tr>\n",
       "    <tr>\n",
       "      <th>2021-01-04</th>\n",
       "      <td>1995.099976</td>\n",
       "      <td>1998.900024</td>\n",
       "      <td>1968.000000</td>\n",
       "      <td>1990.849976</td>\n",
       "      <td>1984.466064</td>\n",
       "      <td>11312992</td>\n",
       "    </tr>\n",
       "    <tr>\n",
       "      <th>2021-01-05</th>\n",
       "      <td>1969.000000</td>\n",
       "      <td>1983.599976</td>\n",
       "      <td>1956.000000</td>\n",
       "      <td>1966.099976</td>\n",
       "      <td>1959.795410</td>\n",
       "      <td>11132803</td>\n",
       "    </tr>\n",
       "    <tr>\n",
       "      <th>2021-01-06</th>\n",
       "      <td>1965.900024</td>\n",
       "      <td>1966.000000</td>\n",
       "      <td>1905.150024</td>\n",
       "      <td>1914.250000</td>\n",
       "      <td>1908.111694</td>\n",
       "      <td>21414270</td>\n",
       "    </tr>\n",
       "    <tr>\n",
       "      <th>2021-01-07</th>\n",
       "      <td>1920.500000</td>\n",
       "      <td>1945.000000</td>\n",
       "      <td>1905.150024</td>\n",
       "      <td>1911.150024</td>\n",
       "      <td>1905.021729</td>\n",
       "      <td>14918406</td>\n",
       "    </tr>\n",
       "  </tbody>\n",
       "</table>\n",
       "</div>"
      ],
      "text/plain": [
       "                   Open         High          Low        Close    Adj Close  \\\n",
       "Date                                                                          \n",
       "2021-01-01  1988.000000  1997.000000  1982.000000  1987.500000  1981.126831   \n",
       "2021-01-04  1995.099976  1998.900024  1968.000000  1990.849976  1984.466064   \n",
       "2021-01-05  1969.000000  1983.599976  1956.000000  1966.099976  1959.795410   \n",
       "2021-01-06  1965.900024  1966.000000  1905.150024  1914.250000  1908.111694   \n",
       "2021-01-07  1920.500000  1945.000000  1905.150024  1911.150024  1905.021729   \n",
       "\n",
       "              Volume  \n",
       "Date                  \n",
       "2021-01-01   4622002  \n",
       "2021-01-04  11312992  \n",
       "2021-01-05  11132803  \n",
       "2021-01-06  21414270  \n",
       "2021-01-07  14918406  "
      ]
     },
     "execution_count": 4,
     "metadata": {},
     "output_type": "execute_result"
    }
   ],
   "source": [
    "df_val=yf.download(stock_code,start='2021-01-01',end='2021-12-31',progress=False)\n",
    "df_val.head()"
   ]
  },
  {
   "cell_type": "code",
   "execution_count": 5,
   "id": "e8a90a15",
   "metadata": {},
   "outputs": [],
   "source": [
    "scaler  = MinMaxScaler(feature_range=(0, 1))\n",
    "train_scaled = scaler.fit_transform(df_train)\n",
    "val_scaled = scaler.fit_transform(df_val)"
   ]
  },
  {
   "cell_type": "code",
   "execution_count": 6,
   "id": "03800dc3",
   "metadata": {},
   "outputs": [],
   "source": [
    "x_train=train_scaled[:,0]\n",
    "y_train=train_scaled[:,3]\n",
    "x_val=val_scaled[:,0]\n",
    "y_val=val_scaled[:,3]"
   ]
  },
  {
   "cell_type": "code",
   "execution_count": 7,
   "id": "34d35b0c",
   "metadata": {},
   "outputs": [],
   "source": [
    "train_size=x_train.shape[0]\n",
    "val_size=x_val.shape[0]"
   ]
  },
  {
   "cell_type": "code",
   "execution_count": 8,
   "id": "7eacd58b",
   "metadata": {},
   "outputs": [],
   "source": [
    "X_train = np.reshape(x_train, (train_size, 1, 1))\n",
    "Y_train = np.reshape(y_train, (train_size, 1))\n",
    "X_val = np.reshape(x_val, (val_size, 1, 1))\n",
    "Y_val = np.reshape(y_val, (val_size, 1))"
   ]
  },
  {
   "cell_type": "code",
   "execution_count": 9,
   "id": "cca9f791",
   "metadata": {},
   "outputs": [],
   "source": [
    "model = Sequential()\n",
    "     \n",
    "# Adding fist LSTM layer and Drop out Regularization\n",
    "model.add(LSTM(units=500, return_sequences=True, input_shape = (X_train.shape[1], 1)))\n",
    "model.add(Dropout(.2))\n",
    "     \n",
    "# Adding 2nd layer with some drop out regularization\n",
    "model.add(LSTM(units=500, return_sequences=True))\n",
    "model.add(Dropout(.2))\n",
    "    \n",
    "# Adding 3rd layer with some drop out regularization\n",
    "model.add(LSTM(units=500, return_sequences=True))\n",
    "model.add(Dropout(.2))\n",
    "     \n",
    "# Adding 4th layer with some drop out regularization\n",
    "model.add(LSTM(units=500, return_sequences=False))\n",
    "model.add(Dropout(.2))\n",
    "     \n",
    "# Output layer\n",
    "model.add(Dense(units=1, activation='sigmoid'))"
   ]
  },
  {
   "cell_type": "code",
   "execution_count": 10,
   "id": "07a42445",
   "metadata": {},
   "outputs": [
    {
     "name": "stdout",
     "output_type": "stream",
     "text": [
      "Model: \"sequential\"\n",
      "_________________________________________________________________\n",
      " Layer (type)                Output Shape              Param #   \n",
      "=================================================================\n",
      " lstm (LSTM)                 (None, 1, 500)            1004000   \n",
      "                                                                 \n",
      " dropout (Dropout)           (None, 1, 500)            0         \n",
      "                                                                 \n",
      " lstm_1 (LSTM)               (None, 1, 500)            2002000   \n",
      "                                                                 \n",
      " dropout_1 (Dropout)         (None, 1, 500)            0         \n",
      "                                                                 \n",
      " lstm_2 (LSTM)               (None, 1, 500)            2002000   \n",
      "                                                                 \n",
      " dropout_2 (Dropout)         (None, 1, 500)            0         \n",
      "                                                                 \n",
      " lstm_3 (LSTM)               (None, 500)               2002000   \n",
      "                                                                 \n",
      " dropout_3 (Dropout)         (None, 500)               0         \n",
      "                                                                 \n",
      " dense (Dense)               (None, 1)                 501       \n",
      "                                                                 \n",
      "=================================================================\n",
      "Total params: 7,010,501\n",
      "Trainable params: 7,010,501\n",
      "Non-trainable params: 0\n",
      "_________________________________________________________________\n"
     ]
    }
   ],
   "source": [
    "model.summary()"
   ]
  },
  {
   "cell_type": "code",
   "execution_count": 11,
   "id": "3adc919c",
   "metadata": {},
   "outputs": [],
   "source": [
    "model.compile(optimizer = 'adam', loss = 'mean_squared_error')"
   ]
  },
  {
   "cell_type": "code",
   "execution_count": 12,
   "id": "24112938",
   "metadata": {},
   "outputs": [
    {
     "name": "stdout",
     "output_type": "stream",
     "text": [
      "Epoch 1/50\n",
      "164/164 [==============================] - 15s 64ms/step - loss: 0.0176 - val_loss: 0.0023\n",
      "Epoch 2/50\n",
      "164/164 [==============================] - 9s 57ms/step - loss: 0.0011 - val_loss: 0.0026\n",
      "Epoch 3/50\n",
      "164/164 [==============================] - 10s 59ms/step - loss: 0.0010 - val_loss: 0.0025\n",
      "Epoch 4/50\n",
      "164/164 [==============================] - 9s 55ms/step - loss: 0.0010 - val_loss: 0.0025\n",
      "Epoch 5/50\n",
      "164/164 [==============================] - 9s 56ms/step - loss: 9.8640e-04 - val_loss: 0.0030\n",
      "Epoch 6/50\n",
      "164/164 [==============================] - 9s 55ms/step - loss: 9.4540e-04 - val_loss: 0.0025\n",
      "Epoch 7/50\n",
      "164/164 [==============================] - 9s 57ms/step - loss: 8.3850e-04 - val_loss: 0.0020\n",
      "Epoch 8/50\n",
      "164/164 [==============================] - 9s 55ms/step - loss: 4.1781e-04 - val_loss: 0.0017\n",
      "Epoch 9/50\n",
      "164/164 [==============================] - 9s 56ms/step - loss: 2.5004e-04 - val_loss: 0.0018\n",
      "Epoch 10/50\n",
      "164/164 [==============================] - 9s 56ms/step - loss: 2.0787e-04 - val_loss: 0.0017\n",
      "Epoch 11/50\n",
      "164/164 [==============================] - 9s 55ms/step - loss: 1.9717e-04 - val_loss: 0.0018\n",
      "Epoch 12/50\n",
      "164/164 [==============================] - 9s 56ms/step - loss: 2.2997e-04 - val_loss: 0.0018\n",
      "Epoch 13/50\n",
      "164/164 [==============================] - 9s 55ms/step - loss: 2.0050e-04 - val_loss: 0.0021\n",
      "Epoch 14/50\n",
      "164/164 [==============================] - 9s 56ms/step - loss: 1.7734e-04 - val_loss: 0.0020\n",
      "Epoch 15/50\n",
      "164/164 [==============================] - 9s 55ms/step - loss: 1.9680e-04 - val_loss: 0.0017\n",
      "Epoch 16/50\n",
      "164/164 [==============================] - 9s 56ms/step - loss: 2.0133e-04 - val_loss: 0.0019\n",
      "Epoch 17/50\n",
      "164/164 [==============================] - 9s 56ms/step - loss: 1.8142e-04 - val_loss: 0.0017\n",
      "Epoch 18/50\n",
      "164/164 [==============================] - 9s 55ms/step - loss: 1.8679e-04 - val_loss: 0.0027\n",
      "Epoch 19/50\n",
      "164/164 [==============================] - 9s 56ms/step - loss: 1.8477e-04 - val_loss: 0.0019\n",
      "Epoch 20/50\n",
      "164/164 [==============================] - 9s 57ms/step - loss: 2.1865e-04 - val_loss: 0.0018\n",
      "Epoch 21/50\n",
      "164/164 [==============================] - 9s 56ms/step - loss: 1.6932e-04 - val_loss: 0.0017\n",
      "Epoch 22/50\n",
      "164/164 [==============================] - 9s 55ms/step - loss: 1.5073e-04 - val_loss: 0.0017\n",
      "Epoch 23/50\n",
      "164/164 [==============================] - 9s 56ms/step - loss: 1.4579e-04 - val_loss: 0.0018\n",
      "Epoch 24/50\n",
      "164/164 [==============================] - 9s 56ms/step - loss: 1.5456e-04 - val_loss: 0.0017\n",
      "Epoch 25/50\n",
      "164/164 [==============================] - 9s 55ms/step - loss: 1.7891e-04 - val_loss: 0.0017\n",
      "Epoch 26/50\n",
      "164/164 [==============================] - 9s 56ms/step - loss: 1.4694e-04 - val_loss: 0.0020\n",
      "Epoch 27/50\n",
      "164/164 [==============================] - 9s 55ms/step - loss: 1.5626e-04 - val_loss: 0.0019\n",
      "Epoch 28/50\n",
      "164/164 [==============================] - 9s 56ms/step - loss: 1.7821e-04 - val_loss: 0.0018\n",
      "Epoch 29/50\n",
      "164/164 [==============================] - 9s 55ms/step - loss: 1.3487e-04 - val_loss: 0.0016\n",
      "Epoch 30/50\n",
      "164/164 [==============================] - 10s 58ms/step - loss: 1.3530e-04 - val_loss: 0.0018\n",
      "Epoch 31/50\n",
      "164/164 [==============================] - 9s 58ms/step - loss: 1.5204e-04 - val_loss: 0.0017\n",
      "Epoch 32/50\n",
      "164/164 [==============================] - 10s 61ms/step - loss: 1.3911e-04 - val_loss: 0.0018\n",
      "Epoch 33/50\n",
      "164/164 [==============================] - 9s 57ms/step - loss: 1.5181e-04 - val_loss: 0.0017\n",
      "Epoch 34/50\n",
      "164/164 [==============================] - 9s 55ms/step - loss: 1.3632e-04 - val_loss: 0.0016\n",
      "Epoch 35/50\n",
      "164/164 [==============================] - 9s 56ms/step - loss: 1.2541e-04 - val_loss: 0.0018\n",
      "Epoch 36/50\n",
      "164/164 [==============================] - 9s 56ms/step - loss: 1.4779e-04 - val_loss: 0.0016\n",
      "Epoch 37/50\n",
      "164/164 [==============================] - 9s 56ms/step - loss: 1.4837e-04 - val_loss: 0.0016\n",
      "Epoch 38/50\n",
      "164/164 [==============================] - 9s 57ms/step - loss: 1.4101e-04 - val_loss: 0.0017\n",
      "Epoch 39/50\n",
      "164/164 [==============================] - 9s 55ms/step - loss: 1.4281e-04 - val_loss: 0.0017\n",
      "Epoch 40/50\n",
      "164/164 [==============================] - 9s 57ms/step - loss: 1.2958e-04 - val_loss: 0.0017\n",
      "Epoch 41/50\n",
      "164/164 [==============================] - 9s 55ms/step - loss: 1.1336e-04 - val_loss: 0.0017\n",
      "Epoch 42/50\n",
      "164/164 [==============================] - 9s 57ms/step - loss: 1.2012e-04 - val_loss: 0.0016\n",
      "Epoch 43/50\n",
      "164/164 [==============================] - 9s 57ms/step - loss: 1.3030e-04 - val_loss: 0.0021\n",
      "Epoch 44/50\n",
      "164/164 [==============================] - 10s 58ms/step - loss: 1.6332e-04 - val_loss: 0.0024\n",
      "Epoch 45/50\n",
      "164/164 [==============================] - 9s 58ms/step - loss: 1.5132e-04 - val_loss: 0.0019\n",
      "Epoch 46/50\n",
      "164/164 [==============================] - 10s 58ms/step - loss: 1.1814e-04 - val_loss: 0.0023\n",
      "Epoch 47/50\n",
      "164/164 [==============================] - 10s 59ms/step - loss: 1.1921e-04 - val_loss: 0.0018\n",
      "Epoch 48/50\n",
      "164/164 [==============================] - 10s 61ms/step - loss: 1.2575e-04 - val_loss: 0.0018\n",
      "Epoch 49/50\n",
      "164/164 [==============================] - 10s 58ms/step - loss: 1.2560e-04 - val_loss: 0.0016\n",
      "Epoch 50/50\n",
      "164/164 [==============================] - 10s 58ms/step - loss: 1.3233e-04 - val_loss: 0.0018\n"
     ]
    }
   ],
   "source": [
    "r = model.fit(x=X_train, y=Y_train , validation_data=(X_val,Y_val) , batch_size=32, epochs=50)"
   ]
  },
  {
   "cell_type": "code",
   "execution_count": 13,
   "id": "3c0e76da",
   "metadata": {},
   "outputs": [
    {
     "data": {
      "image/png": "[encoded data removed]",
      "text/plain": [
       "<Figure size 432x288 with 1 Axes>"
      ]
     },
     "metadata": {
      "needs_background": "light"
     },
     "output_type": "display_data"
    }
   ],
   "source": [
    "# plot the loss\n",
    "plt.plot(r.history['loss'], label='train loss')\n",
    "plt.plot(r.history['val_loss'], label='val loss')\n",
    "plt.legend()\n",
    "plt.show()"
   ]
  },
  {
   "cell_type": "code",
   "execution_count": 14,
   "id": "cdc55c87",
   "metadata": {},
   "outputs": [
    {
     "data": {
      "text/html": [
       "<div>\n",
       "<style scoped>\n",
       "    .dataframe tbody tr th:only-of-type {\n",
       "        vertical-align: middle;\n",
       "    }\n",
       "\n",
       "    .dataframe tbody tr th {\n",
       "        vertical-align: top;\n",
       "    }\n",
       "\n",
       "    .dataframe thead th {\n",
       "        text-align: right;\n",
       "    }\n",
       "</style>\n",
       "<table border=\"1\" class=\"dataframe\">\n",
       "  <thead>\n",
       "    <tr style=\"text-align: right;\">\n",
       "      <th></th>\n",
       "      <th>Open</th>\n",
       "      <th>High</th>\n",
       "      <th>Low</th>\n",
       "      <th>Close</th>\n",
       "      <th>Adj Close</th>\n",
       "      <th>Volume</th>\n",
       "    </tr>\n",
       "    <tr>\n",
       "      <th>Date</th>\n",
       "      <th></th>\n",
       "      <th></th>\n",
       "      <th></th>\n",
       "      <th></th>\n",
       "      <th></th>\n",
       "      <th></th>\n",
       "    </tr>\n",
       "  </thead>\n",
       "  <tbody>\n",
       "    <tr>\n",
       "      <th>2022-01-03</th>\n",
       "      <td>2365.000000</td>\n",
       "      <td>2407.949951</td>\n",
       "      <td>2363.550049</td>\n",
       "      <td>2403.850098</td>\n",
       "      <td>2403.850098</td>\n",
       "      <td>2502073</td>\n",
       "    </tr>\n",
       "    <tr>\n",
       "      <th>2022-01-04</th>\n",
       "      <td>2415.899902</td>\n",
       "      <td>2461.000000</td>\n",
       "      <td>2404.000000</td>\n",
       "      <td>2458.100098</td>\n",
       "      <td>2458.100098</td>\n",
       "      <td>5006225</td>\n",
       "    </tr>\n",
       "    <tr>\n",
       "      <th>2022-01-05</th>\n",
       "      <td>2462.000000</td>\n",
       "      <td>2477.000000</td>\n",
       "      <td>2432.949951</td>\n",
       "      <td>2469.600098</td>\n",
       "      <td>2469.600098</td>\n",
       "      <td>5373618</td>\n",
       "    </tr>\n",
       "    <tr>\n",
       "      <th>2022-01-06</th>\n",
       "      <td>2451.199951</td>\n",
       "      <td>2454.000000</td>\n",
       "      <td>2409.000000</td>\n",
       "      <td>2416.500000</td>\n",
       "      <td>2416.500000</td>\n",
       "      <td>6667483</td>\n",
       "    </tr>\n",
       "    <tr>\n",
       "      <th>2022-01-07</th>\n",
       "      <td>2430.949951</td>\n",
       "      <td>2458.050049</td>\n",
       "      <td>2411.550049</td>\n",
       "      <td>2436.000000</td>\n",
       "      <td>2436.000000</td>\n",
       "      <td>6051239</td>\n",
       "    </tr>\n",
       "  </tbody>\n",
       "</table>\n",
       "</div>"
      ],
      "text/plain": [
       "                   Open         High          Low        Close    Adj Close  \\\n",
       "Date                                                                          \n",
       "2022-01-03  2365.000000  2407.949951  2363.550049  2403.850098  2403.850098   \n",
       "2022-01-04  2415.899902  2461.000000  2404.000000  2458.100098  2458.100098   \n",
       "2022-01-05  2462.000000  2477.000000  2432.949951  2469.600098  2469.600098   \n",
       "2022-01-06  2451.199951  2454.000000  2409.000000  2416.500000  2416.500000   \n",
       "2022-01-07  2430.949951  2458.050049  2411.550049  2436.000000  2436.000000   \n",
       "\n",
       "             Volume  \n",
       "Date                 \n",
       "2022-01-03  2502073  \n",
       "2022-01-04  5006225  \n",
       "2022-01-05  5373618  \n",
       "2022-01-06  6667483  \n",
       "2022-01-07  6051239  "
      ]
     },
     "execution_count": 14,
     "metadata": {},
     "output_type": "execute_result"
    }
   ],
   "source": [
    "df_test=yf.download(stock_code,start='2022-01-01',end='2022-06-30',progress=False)\n",
    "df_test.head()"
   ]
  },
  {
   "cell_type": "code",
   "execution_count": 15,
   "id": "5d061410",
   "metadata": {},
   "outputs": [],
   "source": [
    "test_scaled = scaler.fit_transform(df_test)"
   ]
  },
  {
   "cell_type": "code",
   "execution_count": 16,
   "id": "4587f769",
   "metadata": {},
   "outputs": [],
   "source": [
    "x_test=test_scaled[:,0]"
   ]
  },
  {
   "cell_type": "code",
   "execution_count": 17,
   "id": "e88e5b68",
   "metadata": {},
   "outputs": [],
   "source": [
    "test_size=x_test.shape[0]"
   ]
  },
  {
   "cell_type": "code",
   "execution_count": 18,
   "id": "f0619333",
   "metadata": {},
   "outputs": [],
   "source": [
    "X_test=np.reshape(x_test, (test_size,1,1))"
   ]
  },
  {
   "cell_type": "code",
   "execution_count": 19,
   "id": "c69bfb00",
   "metadata": {},
   "outputs": [],
   "source": [
    "predicted_stock_price = model.predict(X_test)"
   ]
  },
  {
   "cell_type": "code",
   "execution_count": 20,
   "id": "b61526c7",
   "metadata": {},
   "outputs": [
    {
     "data": {
      "text/plain": [
       "(122,)"
      ]
     },
     "execution_count": 20,
     "metadata": {},
     "output_type": "execute_result"
    }
   ],
   "source": [
    "predicted_stock_price=predicted_stock_price.reshape((test_size,))\n",
    "predicted_stock_price.shape"
   ]
  },
  {
   "cell_type": "code",
   "execution_count": 21,
   "id": "a638d606",
   "metadata": {},
   "outputs": [],
   "source": [
    "test_scaled[:,3]=predicted_stock_price"
   ]
  },
  {
   "cell_type": "code",
   "execution_count": 22,
   "id": "348b38f6",
   "metadata": {},
   "outputs": [],
   "source": [
    "stock_price = scaler.inverse_transform(test_scaled)"
   ]
  },
  {
   "cell_type": "code",
   "execution_count": 23,
   "id": "4861fa2a",
   "metadata": {},
   "outputs": [
    {
     "name": "stdout",
     "output_type": "stream",
     "text": [
      "1700.5135711987627\n"
     ]
    }
   ],
   "source": [
    "mse = mean_squared_error(df_test['Close'], stock_price[:,3])\n",
    "print(mse)"
   ]
  },
  {
   "cell_type": "code",
   "execution_count": 24,
   "id": "a1397b4a",
   "metadata": {},
   "outputs": [
    {
     "name": "stdout",
     "output_type": "stream",
     "text": [
      "32.69320313706297\n"
     ]
    }
   ],
   "source": [
    "mae = mean_absolute_error(df_test['Close'], stock_price[:,3])\n",
    "print(mae)"
   ]
  },
  {
   "cell_type": "markdown",
   "id": "084cea6f",
   "metadata": {},
   "source": [
    "### Plot of predicted and actual price"
   ]
  },
  {
   "cell_type": "code",
   "execution_count": 25,
   "id": "12d109d0",
   "metadata": {},
   "outputs": [],
   "source": [
    "df_test['Predicted_Value']=stock_price[:,3]"
   ]
  },
  {
   "cell_type": "code",
   "execution_count": 26,
   "id": "afd441f6",
   "metadata": {},
   "outputs": [
    {
     "data": {
      "image/png": "[encoded data removed]",
      "text/plain": [
       "<Figure size 1440x504 with 1 Axes>"
      ]
     },
     "metadata": {
      "needs_background": "light"
     },
     "output_type": "display_data"
    }
   ],
   "source": [
    "fig, ax = plt.subplots(figsize=(20, 7))\n",
    "plt.plot(df_test['Predicted_Value'],label='Predicted',color='b')\n",
    "plt.plot(df_test['Close'],label='Close',color='r')\n",
    "plt.xlabel('Date')\n",
    "plt.ylabel('Price')\n",
    "plt.legend()\n",
    "plt.show()"
   ]
  },
  {
   "cell_type": "code",
   "execution_count": null,
   "id": "e31e07cd",
   "metadata": {},
   "outputs": [],
   "source": []
  }
 ],
 "metadata": {
  "kernelspec": {
   "display_name": "Python 3 (ipykernel)",
   "language": "python",
   "name": "python3"
  },
  "language_info": {
   "codemirror_mode": {
    "name": "ipython",
    "version": 3
   },
   "file_extension": ".py",
   "mimetype": "text/x-python",
   "name": "python",
   "nbconvert_exporter": "python",
   "pygments_lexer": "ipython3",
   "version": "3.9.7"
  }
 },
 "nbformat": 4,
 "nbformat_minor": 5
}
